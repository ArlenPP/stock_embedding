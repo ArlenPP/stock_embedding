{
 "cells": [
  {
   "cell_type": "code",
   "execution_count": 1,
   "metadata": {},
   "outputs": [
    {
     "name": "stderr",
     "output_type": "stream",
     "text": [
      "Using TensorFlow backend.\n"
     ]
    }
   ],
   "source": [
    "from data.gen_data import build_X, build_Y, build_XY\n",
    "from data.gen_data_config import gen_data_config\n",
    "from evaluation import score\n",
    "import pandas as pd\n",
    "import numpy as np\n",
    "from util import plot_roi, categori_reverse\n",
    "from model import build_model\n",
    "from keras.optimizers import SGD, Adam, RMSprop, Adagrad\n",
    "import keras\n",
    "from pickle import load, dump\n",
    "import matplotlib.pyplot as plt"
   ]
  },
  {
   "cell_type": "code",
   "execution_count": 2,
   "metadata": {},
   "outputs": [],
   "source": [
    "embedding_dim = 128\n",
    "batch_size = 128\n",
    "epochs = 300"
   ]
  },
  {
   "cell_type": "code",
   "execution_count": 3,
   "metadata": {},
   "outputs": [],
   "source": [
    "tr_s, tr_e = '2001/1/1', '2018/12/31'\n",
    "te_s, te_e = '2019/1/1', '2019/12/31'\n",
    "feature_days = 3\n",
    "result_roi = {\n",
    "    'rnn': {},\n",
    "    'dense': {},\n",
    "}"
   ]
  },
  {
   "cell_type": "code",
   "execution_count": 4,
   "metadata": {},
   "outputs": [],
   "source": [
    "with open(f'./embedding_data/rnn_{embedding_dim}', 'rb') as f:\n",
    "    embed_rnn = load(f)\n",
    "with open(f'./embedding_data/dense_{embedding_dim}', 'rb') as f:\n",
    "    embed_dense = load(f)"
   ]
  },
  {
   "cell_type": "code",
   "execution_count": 5,
   "metadata": {},
   "outputs": [],
   "source": [
    "_, tr_y, tr_result = build_XY(tr_s, tr_e, \n",
    "                                     gen_data_config['selected_features'], \n",
    "                                     feature_days)\n",
    "te_x, te_y, te_result = build_XY(te_s, te_e, \n",
    "                                 gen_data_config['selected_features'], \n",
    "                                 feature_days)\n",
    "# convert class vectors to binary class matrices\n",
    "one_tr_y = keras.utils.to_categorical(tr_y, 3)\n",
    "one_te_y = keras.utils.to_categorical(te_y, 3)"
   ]
  },
  {
   "cell_type": "code",
   "execution_count": null,
   "metadata": {},
   "outputs": [
    {
     "name": "stderr",
     "output_type": "stream",
     "text": [
      "#2action_day: 113, #3consecutive_loss_max: -198, #4consecutive_loss_days_max: 8, #5loss_days: 78, roi: -517, roi_max: 44, roi_min: -660\n",
      "#2action_day: 77, #3consecutive_loss_max: -205, #4consecutive_loss_days_max: 10, #5loss_days: 53, roi: -240, roi_max: 162, roi_min: -326\n",
      "#2action_day: 129, #3consecutive_loss_max: -280, #4consecutive_loss_days_max: 12, #5loss_days: 82, roi: 46, roi_max: 553, roi_min: -69\n",
      "#2action_day: 101, #3consecutive_loss_max: -161, #4consecutive_loss_days_max: 6, #5loss_days: 66, roi: -219, roi_max: 97, roi_min: -339\n",
      "#2action_day: 14, #3consecutive_loss_max: -117, #4consecutive_loss_days_max: 5, #5loss_days: 11, roi: -89, roi_max: 6, roi_min: -111\n"
     ]
    }
   ],
   "source": [
    "for task in ['1', '2a', '2b']:\n",
    "    '''rnn model'''\n",
    "    tr_x = embed_rnn['data'][task]\n",
    "    te_x = embed_rnn['tar'][task]\n",
    "    re_tr_x = np.reshape(tr_x, (-1, 1, embedding_dim))\n",
    "    re_te_x = np.reshape(te_x, (-1, 1, embedding_dim))\n",
    "    \n",
    "    model_rnn = build_model('rnn' ,re_tr_x.shape, one_tr_y.shape)\n",
    "    \n",
    "    ''' Compile model with specified loss and optimizer '''\n",
    "    model_rnn.compile(loss= 'categorical_crossentropy',\n",
    "                       optimizer='Adam',\n",
    "                       metrics=['accuracy'])\n",
    "\n",
    "\n",
    "    '''Fit models and use validation_split=0.1 '''\n",
    "    history = model_rnn.fit(re_tr_x, one_tr_y,\n",
    "                                  batch_size=batch_size,\n",
    "                                  epochs=epochs,\n",
    "                                  verbose=0,\n",
    "                                  shuffle=True,\n",
    "                                  validation_split=0.1,)\n",
    "    \n",
    "    pred_y = model_rnn.predict(re_te_x)\n",
    "    pred_z = categori_reverse(pred_y)\n",
    "    result_roi['rnn'][task] = score(pred_z, te_result)\n",
    "    \n",
    "    \n",
    "    '''dense model'''\n",
    "    tr_x = embed_dense['data'][task]\n",
    "    te_x = embed_dense['tar'][task]\n",
    "    \n",
    "    model_dense = build_model('dense' ,tr_x.shape, one_tr_y.shape)\n",
    "\n",
    "    ''' Compile model with specified loss and optimizer '''\n",
    "    model_dense.compile(loss= 'categorical_crossentropy',\n",
    "                       optimizer='Adam',\n",
    "                       metrics=['accuracy'])\n",
    "\n",
    "    '''Fit models and use validation_split=0.1 '''\n",
    "    history = model_dense.fit(tr_x, one_tr_y,\n",
    "                                  batch_size=batch_size,\n",
    "                                  epochs=epochs,\n",
    "                                  verbose=0,\n",
    "                                  shuffle=True,\n",
    "                                  validation_split=0.1,)\n",
    "    pred_y = model_dense.predict(te_x)\n",
    "    pred_z = categori_reverse(pred_y)\n",
    "    result_roi['dense'][task] = score(pred_z, te_result)"
   ]
  },
  {
   "cell_type": "code",
   "execution_count": null,
   "metadata": {},
   "outputs": [],
   "source": [
    "roi_df_dict = {\n",
    "    'rnn': {},\n",
    "    'dense': {},\n",
    "}\n",
    "for t in ['1', '2a', '2b']:\n",
    "    roi_df_dict['rnn'][t] = plot_roi(result_roi['rnn'][t], te_result)\n",
    "    roi_df_dict['dense'][t] = plot_roi(result_roi['dense'][t], te_result)"
   ]
  },
  {
   "cell_type": "code",
   "execution_count": null,
   "metadata": {},
   "outputs": [],
   "source": [
    "fig = plt.figure(figsize=(25, 35))\n",
    "ax1 = fig.add_subplot(321)\n",
    "ax2 = fig.add_subplot(322)\n",
    "ax3 = fig.add_subplot(323)\n",
    "ax4 = fig.add_subplot(324)\n",
    "ax5 = fig.add_subplot(325)\n",
    "ax6 = fig.add_subplot(326)\n",
    "\n",
    "for i, t in zip(range(1,4), ['1', '2a', '2b']):\n",
    "    i = i*2\n",
    "    left, right = i-1, i\n",
    "    roi_df_dict['rnn'][t].plot(rot=75,ax = locals()[f'ax{left}'], fontsize=15)\n",
    "    roi_df_dict['dense'][t].plot(rot=75,ax = locals()[f'ax{right}'], fontsize=15)\n",
    "    locals()[f'ax{left}'].set_title(f'RNN_task_{t}', fontsize=20)\n",
    "    locals()[f'ax{right}'].set_title(f'Dense_task_{t}', fontsize=20)\n",
    "fig.suptitle(f'embedding dim {embedding_dim}', fontsize=30)"
   ]
  },
  {
   "cell_type": "code",
   "execution_count": null,
   "metadata": {},
   "outputs": [],
   "source": [
    "fig.savefig(f'./result/result_{embedding_dim}.png')\n",
    "file = open(f'./result/roi_df_{embedding_dim}.pkl', 'wb')\n",
    "dump(roi_df_dict, file)"
   ]
  },
  {
   "cell_type": "code",
   "execution_count": null,
   "metadata": {},
   "outputs": [],
   "source": []
  }
 ],
 "metadata": {
  "kernelspec": {
   "display_name": "stock_embedding",
   "language": "python",
   "name": "stock_embedding"
  },
  "language_info": {
   "codemirror_mode": {
    "name": "ipython",
    "version": 3
   },
   "file_extension": ".py",
   "mimetype": "text/x-python",
   "name": "python",
   "nbconvert_exporter": "python",
   "pygments_lexer": "ipython3",
   "version": "3.6.9"
  }
 },
 "nbformat": 4,
 "nbformat_minor": 2
}
