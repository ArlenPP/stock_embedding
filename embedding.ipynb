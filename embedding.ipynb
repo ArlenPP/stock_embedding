{
 "cells": [
  {
   "cell_type": "code",
   "execution_count": 1,
   "metadata": {},
   "outputs": [
    {
     "name": "stderr",
     "output_type": "stream",
     "text": [
      "Using TensorFlow backend.\n"
     ]
    }
   ],
   "source": [
    "from data.gen_data import build_X, build_Y, build_XY\n",
    "from data.gen_data_config import gen_data_config\n",
    "from evaluation import score\n",
    "import pandas as pd\n",
    "import numpy as np\n",
    "from util import plot_roi, categori_reverse\n",
    "from model import build_model, build_embed_model\n",
    "from keras.optimizers import SGD, Adam, RMSprop, Adagrad\n",
    "import keras"
   ]
  },
  {
   "cell_type": "code",
   "execution_count": null,
   "metadata": {},
   "outputs": [],
   "source": []
  }
 ],
 "metadata": {
  "kernelspec": {
   "display_name": "fitx2",
   "language": "python",
   "name": "fitx2"
  },
  "language_info": {
   "codemirror_mode": {
    "name": "ipython",
    "version": 3
   },
   "file_extension": ".py",
   "mimetype": "text/x-python",
   "name": "python",
   "nbconvert_exporter": "python",
   "pygments_lexer": "ipython3",
   "version": "3.6.9"
  }
 },
 "nbformat": 4,
 "nbformat_minor": 2
}
