{
 "cells": [
  {
   "cell_type": "code",
   "execution_count": 14,
   "metadata": {},
   "outputs": [],
   "source": [
    "from data.gen_data import build_X, build_Y, build_XY\n",
    "from data.gen_data_config import gen_data_config\n",
    "from evaluation import score\n",
    "import pandas as pd\n",
    "import numpy as np\n",
    "from util import plot_roi, categori_reverse\n",
    "from model import build_model\n",
    "from keras.optimizers import SGD, Adam, RMSprop, Adagrad\n",
    "import keras\n",
    "from keras.layers.core import Dense, Dropout, Activation\n",
    "from keras.layers import LSTM\n",
    "from keras.layers.normalization import BatchNormalization"
   ]
  },
  {
   "cell_type": "code",
   "execution_count": 12,
   "metadata": {},
   "outputs": [],
   "source": [
    "def conbine_LSTM_Dense(input_shape, output_shape):\n",
    "    model = keras.models.Sequential()\n",
    "    model.add(LSTM(256, return_sequences=True, input_shape=input_shape[1:]))\n",
    "    model.add(LSTM(256, return_sequences=True))\n",
    "    model.add(LSTM(128))\n",
    "    model.add(Dense(512))\n",
    "    model.add(Activation('relu'))\n",
    "    model.add(BatchNormalization())\n",
    "    model.add(Dropout(0.2))\n",
    "    model.add(Dense(512))\n",
    "    model.add(Activation('relu'))\n",
    "    model.add(BatchNormalization())\n",
    "    model.add(Dropout(0.2))\n",
    "    model.add(Dense(256))\n",
    "    model.add(Activation('relu'))\n",
    "    model.add(BatchNormalization())\n",
    "    model.add(Dense(output_shape[1]))\n",
    "    model.add(Activation('softmax'))\n",
    "    \n",
    "    return model"
   ]
  },
  {
   "cell_type": "code",
   "execution_count": 3,
   "metadata": {},
   "outputs": [],
   "source": [
    "batch_size = 128\n",
    "epochs = 300"
   ]
  },
  {
   "cell_type": "code",
   "execution_count": 5,
   "metadata": {},
   "outputs": [],
   "source": [
    "tr_s, tr_e = '2001/1/1', '2018/12/31'\n",
    "te_s, te_e = '2019/1/1', '2019/12/31'\n",
    "feature_days = 3"
   ]
  },
  {
   "cell_type": "code",
   "execution_count": 7,
   "metadata": {},
   "outputs": [],
   "source": [
    "tr_x, tr_y, tr_result = build_XY(tr_s, tr_e, \n",
    "                                     gen_data_config['selected_features'], \n",
    "                                     feature_days, 2)\n",
    "te_x, te_y, te_result = build_XY(te_s, te_e, \n",
    "                                 gen_data_config['selected_features'], \n",
    "                                 feature_days, 2)"
   ]
  },
  {
   "cell_type": "code",
   "execution_count": 10,
   "metadata": {},
   "outputs": [],
   "source": [
    "result_roi = {\n",
    "}"
   ]
  },
  {
   "cell_type": "code",
   "execution_count": 8,
   "metadata": {},
   "outputs": [],
   "source": [
    "# convert class vectors to binary class matrices\n",
    "one_tr_y = keras.utils.to_categorical(tr_y, 3)\n",
    "one_te_y = keras.utils.to_categorical(te_y, 3)"
   ]
  },
  {
   "cell_type": "code",
   "execution_count": 9,
   "metadata": {},
   "outputs": [],
   "source": [
    "re_tr_x = np.reshape(tr_x, (-1, feature_days, len(gen_data_config['selected_features'])))\n",
    "re_te_x = np.reshape(te_x, (-1, feature_days, len(gen_data_config['selected_features'])))"
   ]
  },
  {
   "cell_type": "code",
   "execution_count": 17,
   "metadata": {},
   "outputs": [
    {
     "name": "stderr",
     "output_type": "stream",
     "text": [
      "#2action_day: 102, #3consecutive_loss_max: -203, #4consecutive_loss_days_max: 9, #5loss_days: 68, roi: -188, roi_max: 144, roi_min: -271\n"
     ]
    }
   ],
   "source": [
    "model_combine = conbine_LSTM_Dense(re_tr_x.shape, one_tr_y.shape)\n",
    "''' Compile model with specified loss and optimizer '''\n",
    "model_combine.compile(loss= 'categorical_crossentropy',\n",
    "                   optimizer='Adam',\n",
    "                   metrics=['accuracy'])\n",
    "\n",
    "\n",
    "'''Fit models and use validation_split=0.1 '''\n",
    "history = model_combine.fit(re_tr_x, one_tr_y,\n",
    "                              batch_size=batch_size,\n",
    "                              epochs=epochs,\n",
    "                              verbose=0,\n",
    "                              shuffle=True,\n",
    "                              validation_split=0.1,)\n",
    "\n",
    "pred_y = model_combine.predict(re_te_x)\n",
    "pred_z = categori_reverse(pred_y)\n",
    "result_roi['combine'] = score(pred_z, te_result)"
   ]
  },
  {
   "cell_type": "code",
   "execution_count": null,
   "metadata": {},
   "outputs": [],
   "source": []
  }
 ],
 "metadata": {
  "kernelspec": {
   "display_name": "stock_embedding",
   "language": "python",
   "name": "stock_embedding"
  },
  "language_info": {
   "codemirror_mode": {
    "name": "ipython",
    "version": 3
   },
   "file_extension": ".py",
   "mimetype": "text/x-python",
   "name": "python",
   "nbconvert_exporter": "python",
   "pygments_lexer": "ipython3",
   "version": "3.6.9"
  }
 },
 "nbformat": 4,
 "nbformat_minor": 2
}
